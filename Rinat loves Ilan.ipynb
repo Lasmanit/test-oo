{
 "cells": [
  {
   "cell_type": "markdown",
   "id": "03efc52b-696c-4c2b-bd7f-b9fe3111a32f",
   "metadata": {},
   "source": [
    "1000*1000"
   ]
  },
  {
   "cell_type": "code",
   "execution_count": 2,
   "id": "43e09355-b8fd-491e-a10d-24f135edc0bd",
   "metadata": {},
   "outputs": [
    {
     "name": "stdout",
     "output_type": "stream",
     "text": [
      "Ilan loves Rinat\n"
     ]
    }
   ],
   "source": [
    "print(\"Ilan loves Rinat\")"
   ]
  },
  {
   "cell_type": "markdown",
   "id": "235f36ce-89c4-4010-9dd5-fe0145ac913f",
   "metadata": {},
   "source": [
    "Yes he does"
   ]
  },
  {
   "cell_type": "code",
   "execution_count": 3,
   "id": "4c7d3bad-c5e3-4b44-9554-68f41ee7935d",
   "metadata": {},
   "outputs": [
    {
     "data": {
      "text/plain": [
       "3"
      ]
     },
     "execution_count": 3,
     "metadata": {},
     "output_type": "execute_result"
    }
   ],
   "source": [
    "1+1+1"
   ]
  },
  {
   "cell_type": "code",
   "execution_count": null,
   "id": "a4eb7242-70c1-45ef-bb9f-1357d5af92de",
   "metadata": {},
   "outputs": [],
   "source": []
  }
 ],
 "metadata": {
  "kernelspec": {
   "display_name": "Python",
   "language": "python",
   "name": "conda-env-python-py"
  },
  "language_info": {
   "codemirror_mode": {
    "name": "ipython",
    "version": 3
   },
   "file_extension": ".py",
   "mimetype": "text/x-python",
   "name": "python",
   "nbconvert_exporter": "python",
   "pygments_lexer": "ipython3",
   "version": "3.7.10"
  }
 },
 "nbformat": 4,
 "nbformat_minor": 5
}

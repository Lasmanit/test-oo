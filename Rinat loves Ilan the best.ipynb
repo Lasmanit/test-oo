{
 "cells": [
  {
   "cell_type": "markdown",
   "id": "03efc52b-696c-4c2b-bd7f-b9fe3111a32f",
   "metadata": {},
   "source": [
    "1000*1000"
   ]
  },
  {
   "cell_type": "code",
   "execution_count": 2,
   "id": "43e09355-b8fd-491e-a10d-24f135edc0bd",
   "metadata": {},
   "outputs": [
    {
     "name": "stdout",
     "output_type": "stream",
     "text": [
      "Ilan loves Rinat\n"
     ]
    }
   ],
   "source": [
    "print(\"Ilan loves Rinat\")"
   ]
  },
  {
   "cell_type": "markdown",
   "id": "235f36ce-89c4-4010-9dd5-fe0145ac913f",
   "metadata": {},
   "source": [
    "Yes he does"
   ]
  },
  {
   "cell_type": "code",
   "execution_count": 3,
   "id": "4c7d3bad-c5e3-4b44-9554-68f41ee7935d",
   "metadata": {},
   "outputs": [
    {
     "data": {
      "text/plain": [
       "3"
      ]
     },
     "execution_count": 3,
     "metadata": {},
     "output_type": "execute_result"
    }
   ],
   "source": [
    "1+1+1"
   ]
  },
  {
   "cell_type": "code",
   "execution_count": 1,
   "id": "d0a7385c-6a50-4bfc-89c8-2ad92aad140b",
   "metadata": {},
   "outputs": [
    {
     "ename": "ERROR",
     "evalue": "Error in parse(text = x, srcfile = src): <text>:1:6: unexpected symbol\n1: HTML code\n         ^\n",
     "execution_count": 1,
     "output_type": "error",
     "traceback": [
      "Error in parse(text = x, srcfile = src): <text>:1:6: unexpected symbol\n1: HTML code\n         ^\nTraceback:\n"
     ]
    }
   ],
   "source": [
    "HTML code"
   ]
  },
  {
   "cell_type": "markdown",
   "id": "a302824a-7df9-4497-9f93-866608b16d4a",
   "metadata": {},
   "source": [
    "<a href="
   ]
  },
  {
   "cell_type": "markdown",
   "id": "923636ec-3ea8-4c28-8220-b41981a20707",
   "metadata": {},
   "source": [
    "https://www.cognitiveclass.ai/?utm_medium=Exinfluencer&utm_source=Exinfluencer&utm_content=000026UJ&utm_term=10006555&utm_id=NA-SkillsNetwork-Channel-SkillsNetworkCoursesIBMDeveloperSkillsNetworkDS0105ENSkillsNetwork20083975-2021-01-01>Cognitive"
   ]
  },
  {
   "cell_type": "markdown",
   "id": "a0aa8cb8-f145-4f07-a127-7f8c8e34de82",
   "metadata": {},
   "source": [
    "<a href=https://www.cognitiveclass.ai/?utm_medium=Exinfluencer&utm_source=Exinfluencer&utm_content=000026UJ&utm_term=10006555&utm_id=NA-SkillsNetwork-Channel-SkillsNetworkCoursesIBMDeveloperSkillsNetworkDS0105ENSkillsNetwork20083975-2021-01-01>Cognitive"
   ]
  },
  {
   "cell_type": "markdown",
   "id": "d2a83433-6afd-4312-ba9b-b9936aa90506",
   "metadata": {},
   "source": [
    "#Header 1"
   ]
  },
  {
   "cell_type": "markdown",
   "id": "07e4910f-b614-44e8-a61b-a1a293e032cd",
   "metadata": {
    "tags": []
   },
   "source": [
    "# Rinat1 ## Rinat2"
   ]
  },
  {
   "cell_type": "markdown",
   "id": "047c63c0-ae01-4a3c-9775-ec978b9c307c",
   "metadata": {},
   "source": [
    "https://www.cognitiveclass.ai"
   ]
  },
  {
   "cell_type": "markdown",
   "id": "194e07e6-1930-4716-a6db-80ac5d88fb33",
   "metadata": {},
   "source": [
    "*rinat*"
   ]
  },
  {
   "cell_type": "markdown",
   "id": "a146d21c-05ac-4086-8657-4e0cfbf54875",
   "metadata": {},
   "source": [
    "# Rinat ## Rinat"
   ]
  },
  {
   "cell_type": "markdown",
   "id": "a41e704a-56dc-467c-af43-ffd75279b4dc",
   "metadata": {
    "tags": []
   },
   "source": [
    "| header | header |\n",
    "| ------ | ------ |\n",
    "| cell | cell |"
   ]
  },
  {
   "cell_type": "markdown",
   "id": "7a4b2d0c-cb2a-45a0-8bb0-8095788dbc93",
   "metadata": {},
   "source": [
    "| Rinat1| |Ilan| |Vince|\n",
    "|-------| |----| |=====|\n",
    "|cleaning cooking| |learning| |sleeping barcking|\n",
    "|"
   ]
  },
  {
   "cell_type": "markdown",
   "id": "39ac870d-0f37-4ee8-af99-5f6253196e33",
   "metadata": {},
   "source": [
    "| Rinat1|Ilan|Vince|\n",
    "|-------|----|----|\n",
    "|cleaning cooking|learning|sleeping barcking|"
   ]
  },
  {
   "cell_type": "code",
   "execution_count": null,
   "id": "03518dcb-bd4d-4ac0-a824-73e5c9f7759d",
   "metadata": {},
   "outputs": [],
   "source": []
  }
 ],
 "metadata": {
  "kernelspec": {
   "display_name": "Python",
   "language": "python",
   "name": "conda-env-python-py"
  },
  "language_info": {
   "codemirror_mode": {
    "name": "ipython",
    "version": 3
   },
   "file_extension": ".py",
   "mimetype": "text/x-python",
   "name": "python",
   "nbconvert_exporter": "python",
   "pygments_lexer": "ipython3",
   "version": "3.7.10"
  }
 },
 "nbformat": 4,
 "nbformat_minor": 5
}
